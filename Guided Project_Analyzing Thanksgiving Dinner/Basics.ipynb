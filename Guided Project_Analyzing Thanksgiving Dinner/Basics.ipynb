{
 "cells": [
  {
   "cell_type": "markdown",
   "metadata": {},
   "source": [
    "# thanks giving data"
   ]
  },
  {
   "cell_type": "code",
   "execution_count": 75,
   "metadata": {
    "collapsed": false
   },
   "outputs": [],
   "source": [
    "import pandas\n",
    "import numpy"
   ]
  },
  {
   "cell_type": "code",
   "execution_count": 5,
   "metadata": {
    "collapsed": false
   },
   "outputs": [],
   "source": [
    "data = pandas.read_csv(\"thanksgiving.csv\", encoding = \"Latin-1\")"
   ]
  },
  {
   "cell_type": "code",
   "execution_count": 6,
   "metadata": {
    "collapsed": false
   },
   "outputs": [
    {
     "name": "stdout",
     "output_type": "stream",
     "text": [
      "   RespondentID Do you celebrate Thanksgiving?  \\\n",
      "0    4337954960                            Yes   \n",
      "\n",
      "  What is typically the main dish at your Thanksgiving dinner?  \\\n",
      "0                                             Turkey             \n",
      "\n",
      "  What is typically the main dish at your Thanksgiving dinner? - Other (please specify)  \\\n",
      "0                                                NaN                                      \n",
      "\n",
      "  How is the main dish typically cooked?  \\\n",
      "0                                  Baked   \n",
      "\n",
      "  How is the main dish typically cooked? - Other (please specify)  \\\n",
      "0                                                NaN                \n",
      "\n",
      "  What kind of stuffing/dressing do you typically have?  \\\n",
      "0                                        Bread-based      \n",
      "\n",
      "  What kind of stuffing/dressing do you typically have? - Other (please specify)  \\\n",
      "0                                                NaN                               \n",
      "\n",
      "  What type of cranberry saucedo you typically have?  \\\n",
      "0                                               None   \n",
      "\n",
      "  What type of cranberry saucedo you typically have? - Other (please specify)  \\\n",
      "0                                                NaN                            \n",
      "\n",
      "        ...         \\\n",
      "0       ...          \n",
      "\n",
      "  Have you ever tried to meet up with hometown friends on Thanksgiving night?  \\\n",
      "0                                                Yes                            \n",
      "\n",
      "  Have you ever attended a \"Friendsgiving?\"  \\\n",
      "0                                        No   \n",
      "\n",
      "  Will you shop any Black Friday sales on Thanksgiving Day?  \\\n",
      "0                                                 No          \n",
      "\n",
      "  Do you work in retail? Will you employer make you work on Black Friday?  \\\n",
      "0                     No                                              NaN   \n",
      "\n",
      "  How would you describe where you live?      Age What is your gender?  \\\n",
      "0                               Suburban  18 - 29                 Male   \n",
      "\n",
      "  How much total combined money did all members of your HOUSEHOLD earn last year?  \\\n",
      "0                                 $75,000 to $99,999                                \n",
      "\n",
      "         US Region  \n",
      "0  Middle Atlantic  \n",
      "\n",
      "[1 rows x 65 columns]\n"
     ]
    }
   ],
   "source": [
    "print(data.head(1))"
   ]
  },
  {
   "cell_type": "code",
   "execution_count": 7,
   "metadata": {
    "collapsed": false
   },
   "outputs": [
    {
     "name": "stdout",
     "output_type": "stream",
     "text": [
      "Index(['RespondentID', 'Do you celebrate Thanksgiving?',\n",
      "       'What is typically the main dish at your Thanksgiving dinner?',\n",
      "       'What is typically the main dish at your Thanksgiving dinner? - Other (please specify)',\n",
      "       'How is the main dish typically cooked?',\n",
      "       'How is the main dish typically cooked? - Other (please specify)',\n",
      "       'What kind of stuffing/dressing do you typically have?',\n",
      "       'What kind of stuffing/dressing do you typically have? - Other (please specify)',\n",
      "       'What type of cranberry saucedo you typically have?',\n",
      "       'What type of cranberry saucedo you typically have? - Other (please specify)',\n",
      "       'Do you typically have gravy?',\n",
      "       'Which of these side dishes aretypically served at your Thanksgiving dinner? Please select all that apply. - Brussel sprouts',\n",
      "       'Which of these side dishes aretypically served at your Thanksgiving dinner? Please select all that apply. - Carrots',\n",
      "       'Which of these side dishes aretypically served at your Thanksgiving dinner? Please select all that apply. - Cauliflower',\n",
      "       'Which of these side dishes aretypically served at your Thanksgiving dinner? Please select all that apply. - Corn',\n",
      "       'Which of these side dishes aretypically served at your Thanksgiving dinner? Please select all that apply. - Cornbread',\n",
      "       'Which of these side dishes aretypically served at your Thanksgiving dinner? Please select all that apply. - Fruit salad',\n",
      "       'Which of these side dishes aretypically served at your Thanksgiving dinner? Please select all that apply. - Green beans/green bean casserole',\n",
      "       'Which of these side dishes aretypically served at your Thanksgiving dinner? Please select all that apply. - Macaroni and cheese',\n",
      "       'Which of these side dishes aretypically served at your Thanksgiving dinner? Please select all that apply. - Mashed potatoes',\n",
      "       'Which of these side dishes aretypically served at your Thanksgiving dinner? Please select all that apply. - Rolls/biscuits',\n",
      "       'Which of these side dishes aretypically served at your Thanksgiving dinner? Please select all that apply. - Squash',\n",
      "       'Which of these side dishes aretypically served at your Thanksgiving dinner? Please select all that apply. - Vegetable salad',\n",
      "       'Which of these side dishes aretypically served at your Thanksgiving dinner? Please select all that apply. - Yams/sweet potato casserole',\n",
      "       'Which of these side dishes aretypically served at your Thanksgiving dinner? Please select all that apply. - Other (please specify)',\n",
      "       'Which of these side dishes aretypically served at your Thanksgiving dinner? Please select all that apply. - Other (please specify).1',\n",
      "       'Which type of pie is typically served at your Thanksgiving dinner? Please select all that apply. - Apple',\n",
      "       'Which type of pie is typically served at your Thanksgiving dinner? Please select all that apply. - Buttermilk',\n",
      "       'Which type of pie is typically served at your Thanksgiving dinner? Please select all that apply. - Cherry',\n",
      "       'Which type of pie is typically served at your Thanksgiving dinner? Please select all that apply. - Chocolate',\n",
      "       'Which type of pie is typically served at your Thanksgiving dinner? Please select all that apply. - Coconut cream',\n",
      "       'Which type of pie is typically served at your Thanksgiving dinner? Please select all that apply. - Key lime',\n",
      "       'Which type of pie is typically served at your Thanksgiving dinner? Please select all that apply. - Peach',\n",
      "       'Which type of pie is typically served at your Thanksgiving dinner? Please select all that apply. - Pecan',\n",
      "       'Which type of pie is typically served at your Thanksgiving dinner? Please select all that apply. - Pumpkin',\n",
      "       'Which type of pie is typically served at your Thanksgiving dinner? Please select all that apply. - Sweet Potato',\n",
      "       'Which type of pie is typically served at your Thanksgiving dinner? Please select all that apply. - None',\n",
      "       'Which type of pie is typically served at your Thanksgiving dinner? Please select all that apply. - Other (please specify)',\n",
      "       'Which type of pie is typically served at your Thanksgiving dinner? Please select all that apply. - Other (please specify).1',\n",
      "       'Which of these desserts do you typically have at Thanksgiving dinner? Please select all that apply.   - Apple cobbler',\n",
      "       'Which of these desserts do you typically have at Thanksgiving dinner? Please select all that apply.   - Blondies',\n",
      "       'Which of these desserts do you typically have at Thanksgiving dinner? Please select all that apply.   - Brownies',\n",
      "       'Which of these desserts do you typically have at Thanksgiving dinner? Please select all that apply.   - Carrot cake',\n",
      "       'Which of these desserts do you typically have at Thanksgiving dinner? Please select all that apply.   - Cheesecake',\n",
      "       'Which of these desserts do you typically have at Thanksgiving dinner? Please select all that apply.   - Cookies',\n",
      "       'Which of these desserts do you typically have at Thanksgiving dinner? Please select all that apply.   - Fudge',\n",
      "       'Which of these desserts do you typically have at Thanksgiving dinner? Please select all that apply.   - Ice cream',\n",
      "       'Which of these desserts do you typically have at Thanksgiving dinner? Please select all that apply.   - Peach cobbler',\n",
      "       'Which of these desserts do you typically have at Thanksgiving dinner? Please select all that apply.   - None',\n",
      "       'Which of these desserts do you typically have at Thanksgiving dinner? Please select all that apply.   - Other (please specify)',\n",
      "       'Which of these desserts do you typically have at Thanksgiving dinner? Please select all that apply.   - Other (please specify).1',\n",
      "       'Do you typically pray before or after the Thanksgiving meal?',\n",
      "       'How far will you travel for Thanksgiving?',\n",
      "       'Will you watch any of the following programs on Thanksgiving? Please select all that apply. - Macy's Parade',\n",
      "       'What's the age cutoff at your \"kids' table\" at Thanksgiving?',\n",
      "       'Have you ever tried to meet up with hometown friends on Thanksgiving night?',\n",
      "       'Have you ever attended a \"Friendsgiving?\"',\n",
      "       'Will you shop any Black Friday sales on Thanksgiving Day?',\n",
      "       'Do you work in retail?',\n",
      "       'Will you employer make you work on Black Friday?',\n",
      "       'How would you describe where you live?', 'Age', 'What is your gender?',\n",
      "       'How much total combined money did all members of your HOUSEHOLD earn last year?',\n",
      "       'US Region'],\n",
      "      dtype='object')\n"
     ]
    }
   ],
   "source": [
    "print(data.columns)"
   ]
  },
  {
   "cell_type": "markdown",
   "metadata": {},
   "source": [
    "## Filtering Out Rows From A DataFrame"
   ]
  },
  {
   "cell_type": "code",
   "execution_count": 8,
   "metadata": {
    "collapsed": false
   },
   "outputs": [
    {
     "name": "stdout",
     "output_type": "stream",
     "text": [
      "Yes    980\n",
      "No      78\n",
      "Name: Do you celebrate Thanksgiving?, dtype: int64\n"
     ]
    }
   ],
   "source": [
    "ans = data[\"Do you celebrate Thanksgiving?\"]\n",
    "print(ans.value_counts())"
   ]
  },
  {
   "cell_type": "code",
   "execution_count": 9,
   "metadata": {
    "collapsed": false
   },
   "outputs": [],
   "source": [
    "is_ans = data[\"Do you celebrate Thanksgiving?\"] == \"Yes\"\n",
    "data = data[is_ans]"
   ]
  },
  {
   "cell_type": "markdown",
   "metadata": {},
   "source": [
    "## Using value_counts To Explore Main Dishes\n"
   ]
  },
  {
   "cell_type": "code",
   "execution_count": 10,
   "metadata": {
    "collapsed": false
   },
   "outputs": [
    {
     "name": "stdout",
     "output_type": "stream",
     "text": [
      "Turkey                    859\n",
      "Other (please specify)     35\n",
      "Ham/Pork                   29\n",
      "Tofurkey                   20\n",
      "Chicken                    12\n",
      "Roast beef                 11\n",
      "I don't know                5\n",
      "Turducken                   3\n",
      "Name: What is typically the main dish at your Thanksgiving dinner?, dtype: int64\n"
     ]
    }
   ],
   "source": [
    "print(data[\"What is typically the main dish at your Thanksgiving dinner?\"].value_counts())\n"
   ]
  },
  {
   "cell_type": "code",
   "execution_count": 11,
   "metadata": {
    "collapsed": false
   },
   "outputs": [
    {
     "name": "stdout",
     "output_type": "stream",
     "text": [
      "    Do you typically have gravy?  \\\n",
      "4                            Yes   \n",
      "33                           Yes   \n",
      "69                            No   \n",
      "72                            No   \n",
      "77                           Yes   \n",
      "145                          Yes   \n",
      "175                          Yes   \n",
      "218                           No   \n",
      "243                          Yes   \n",
      "275                           No   \n",
      "393                          Yes   \n",
      "399                          Yes   \n",
      "571                          Yes   \n",
      "594                          Yes   \n",
      "628                           No   \n",
      "774                           No   \n",
      "820                           No   \n",
      "837                          Yes   \n",
      "860                           No   \n",
      "953                          Yes   \n",
      "\n",
      "    What is typically the main dish at your Thanksgiving dinner?  \n",
      "4                                             Tofurkey            \n",
      "33                                            Tofurkey            \n",
      "69                                            Tofurkey            \n",
      "72                                            Tofurkey            \n",
      "77                                            Tofurkey            \n",
      "145                                           Tofurkey            \n",
      "175                                           Tofurkey            \n",
      "218                                           Tofurkey            \n",
      "243                                           Tofurkey            \n",
      "275                                           Tofurkey            \n",
      "393                                           Tofurkey            \n",
      "399                                           Tofurkey            \n",
      "571                                           Tofurkey            \n",
      "594                                           Tofurkey            \n",
      "628                                           Tofurkey            \n",
      "774                                           Tofurkey            \n",
      "820                                           Tofurkey            \n",
      "837                                           Tofurkey            \n",
      "860                                           Tofurkey            \n",
      "953                                           Tofurkey            \n"
     ]
    }
   ],
   "source": [
    "is_tur = data[\"What is typically the main dish at your Thanksgiving dinner?\"] == \"Tofurkey\"\n",
    "df = data[is_tur]\n",
    "#print(df)\n",
    "#print(df[\"Do you typically have gravy?\"])\n",
    "#print(df[\"What is typically the main dish at your Thanksgiving dinner?\"])\n",
    "print(df[[\"Do you typically have gravy?\", \"What is typically the main dish at your Thanksgiving dinner?\"]])"
   ]
  },
  {
   "cell_type": "code",
   "execution_count": 12,
   "metadata": {
    "collapsed": false
   },
   "outputs": [
    {
     "name": "stdout",
     "output_type": "stream",
     "text": [
      "4      Yes\n",
      "33     Yes\n",
      "69      No\n",
      "72      No\n",
      "77     Yes\n",
      "145    Yes\n",
      "175    Yes\n",
      "218     No\n",
      "243    Yes\n",
      "275     No\n",
      "393    Yes\n",
      "399    Yes\n",
      "571    Yes\n",
      "594    Yes\n",
      "628     No\n",
      "774     No\n",
      "820     No\n",
      "837    Yes\n",
      "860     No\n",
      "953    Yes\n",
      "Name: Do you typically have gravy?, dtype: object\n"
     ]
    }
   ],
   "source": [
    "is_tur = data[\"What is typically the main dish at your Thanksgiving dinner?\"] == \"Tofurkey\"\n",
    "rows = data[is_tur]\n",
    "print(rows[\"Do you typically have gravy?\"])"
   ]
  },
  {
   "cell_type": "markdown",
   "metadata": {},
   "source": [
    "## Figuring Out What Pies People Eat"
   ]
  },
  {
   "cell_type": "code",
   "execution_count": 13,
   "metadata": {
    "collapsed": false
   },
   "outputs": [
    {
     "name": "stdout",
     "output_type": "stream",
     "text": [
      "False    876\n",
      "True     104\n",
      "dtype: int64\n"
     ]
    }
   ],
   "source": [
    "apple_isnull = data[\"Which type of pie is typically served at your Thanksgiving dinner? Please select all that apply. - Apple\"].isnull()\n",
    "pumpkin_isnull = data[\"Which type of pie is typically served at your Thanksgiving dinner? Please select all that apply. - Pumpkin\"].isnull()    \n",
    "pecan_isnull = data[\"Which type of pie is typically served at your Thanksgiving dinner? Please select all that apply. - Pecan\"].isnull()\n",
    "\n",
    "no_pies = apple_isnull & pumpkin_isnull & pecan_isnull\n",
    "print(no_pies.value_counts())"
   ]
  },
  {
   "cell_type": "markdown",
   "metadata": {},
   "source": [
    "##  Converting Age To Numeric"
   ]
  },
  {
   "cell_type": "code",
   "execution_count": 34,
   "metadata": {
    "collapsed": true
   },
   "outputs": [],
   "source": [
    "def to_numeric(row):\n",
    "    age = row[\"Age\"]\n",
    "    if pandas.isnull(age): \n",
    "        return None\n",
    "    return int(age.split(\" \")[0].replace(\"+\", \" \"))  \n"
   ]
  },
  {
   "cell_type": "code",
   "execution_count": 35,
   "metadata": {
    "collapsed": false
   },
   "outputs": [],
   "source": [
    "data['int_age'] = data.apply(to_numeric, axis = 1)   \n"
   ]
  },
  {
   "cell_type": "code",
   "execution_count": 37,
   "metadata": {
    "collapsed": false
   },
   "outputs": [
    {
     "data": {
      "text/plain": [
       "count    947.000000\n",
       "mean      40.089757\n",
       "std       15.352014\n",
       "min       18.000000\n",
       "25%       30.000000\n",
       "50%       45.000000\n",
       "75%       60.000000\n",
       "max       60.000000\n",
       "Name: int_age, dtype: float64"
      ]
     },
     "execution_count": 37,
     "metadata": {},
     "output_type": "execute_result"
    }
   ],
   "source": [
    "data['int_age'].describe()"
   ]
  },
  {
   "cell_type": "markdown",
   "metadata": {},
   "source": [
    "### write up your findings.\n",
    "Is there anything that we should be aware of about the results or our methodology?\n",
    "Is this a true depiction of the ages of survey participants?"
   ]
  },
  {
   "cell_type": "markdown",
   "metadata": {},
   "source": [
    "## Converting Income To Numeric"
   ]
  },
  {
   "cell_type": "code",
   "execution_count": 47,
   "metadata": {
    "collapsed": true
   },
   "outputs": [],
   "source": [
    "def in_numeric(row):\n",
    "    income = row[\"How much total combined money did all members of your HOUSEHOLD earn last year?\"]  \n",
    "    if pandas.isnull(income) :\n",
    "        return None\n",
    "    result = income.split(\" \")[0]\n",
    "    if result == \"Prefer\" :\n",
    "        return None\n",
    "    return int(result.replace(\"$\", \"\").replace(\",\", \"\"))"
   ]
  },
  {
   "cell_type": "code",
   "execution_count": 48,
   "metadata": {
    "collapsed": false
   },
   "outputs": [],
   "source": [
    "income = data[\"How much total combined money did all members of your HOUSEHOLD earn last year?\"]   \n",
    "data[\"int_income\"] = data.apply(in_numeric, axis = 1)"
   ]
  },
  {
   "cell_type": "code",
   "execution_count": 49,
   "metadata": {
    "collapsed": false
   },
   "outputs": [
    {
     "data": {
      "text/plain": [
       "count       829.000000\n",
       "mean      75965.018094\n",
       "std       59068.636748\n",
       "min           0.000000\n",
       "25%       25000.000000\n",
       "50%       75000.000000\n",
       "75%      100000.000000\n",
       "max      200000.000000\n",
       "Name: int_income, dtype: float64"
      ]
     },
     "execution_count": 49,
     "metadata": {},
     "output_type": "execute_result"
    }
   ],
   "source": [
    "data[\"int_income\"].describe()"
   ]
  },
  {
   "cell_type": "markdown",
   "metadata": {},
   "source": [
    "## write up your findings.\n",
    "Is there anything that we should be aware of about the results or our methodology?\n",
    "Is this a true depiction of the incomes of survey participants?"
   ]
  },
  {
   "cell_type": "markdown",
   "metadata": {},
   "source": [
    "##  Correlating Travel Distance And Income"
   ]
  },
  {
   "cell_type": "code",
   "execution_count": 55,
   "metadata": {
    "collapsed": false
   },
   "outputs": [
    {
     "name": "stdout",
     "output_type": "stream",
     "text": [
      "count : 689\n",
      "Thanksgiving is happening at my home--I won't travel at all                         281\n",
      "Thanksgiving is local--it will take place in the town I live in                     203\n",
      "Thanksgiving is out of town but not too far--it's a drive of a few hours or less    150\n",
      "Thanksgiving is out of town and far away--I have to drive several hours or fly       55\n",
      "Name: How far will you travel for Thanksgiving?, dtype: int64\n"
     ]
    }
   ],
   "source": [
    "is_rows = data['int_income'] < 150000\n",
    "rows_less_150000 = data[is_rows]\n",
    "print(\"count :\" , len(rows_less_150000))\n",
    "print(rows_less_150000[\"How far will you travel for Thanksgiving?\"].value_counts())     \n",
    "\n"
   ]
  },
  {
   "cell_type": "code",
   "execution_count": 56,
   "metadata": {
    "collapsed": false
   },
   "outputs": [
    {
     "name": "stdout",
     "output_type": "stream",
     "text": [
      "count : 102\n",
      "Thanksgiving is happening at my home--I won't travel at all                         49\n",
      "Thanksgiving is local--it will take place in the town I live in                     25\n",
      "Thanksgiving is out of town but not too far--it's a drive of a few hours or less    16\n",
      "Thanksgiving is out of town and far away--I have to drive several hours or fly      12\n",
      "Name: How far will you travel for Thanksgiving?, dtype: int64\n"
     ]
    }
   ],
   "source": [
    "is_row = data['int_income'] > 150000\n",
    "rows_gt = data[is_row]\n",
    "print(\"count :\", len(rows_gt))\n",
    "print(rows_gt['How far will you travel for Thanksgiving?'].value_counts())         "
   ]
  },
  {
   "cell_type": "code",
   "execution_count": 70,
   "metadata": {
    "collapsed": false
   },
   "outputs": [
    {
     "name": "stdout",
     "output_type": "stream",
     "text": [
      "percentage of people with less salary:  87.1\n",
      "percentage of people with less salary:  12.9\n"
     ]
    }
   ],
   "source": [
    "less_salary = 689/(689+102) * 100\n",
    "print(\"percentage of people with less salary: \", round(less_salary, 2))        \n",
    "print(\"percentage of people with less salary: \", round(100 - less_salary, 2))\n",
    "\n",
    "#print()"
   ]
  },
  {
   "cell_type": "markdown",
   "metadata": {},
   "source": [
    "## findings .. \n",
    "people "
   ]
  },
  {
   "cell_type": "markdown",
   "metadata": {},
   "source": [
    "## Linking Friendship And Age"
   ]
  },
  {
   "cell_type": "code",
   "execution_count": 72,
   "metadata": {
    "collapsed": false
   },
   "outputs": [
    {
     "name": "stdout",
     "output_type": "stream",
     "text": [
      "Have you ever attended a \"Friendsgiving?\"                  No        Yes\n",
      "Have you ever tried to meet up with hometown fr...                      \n",
      "No                                                  42.283702  37.010526\n",
      "Yes                                                 41.475410  33.976744\n"
     ]
    }
   ],
   "source": [
    "pt = data.pivot_table(index=\"Have you ever tried to meet up with hometown friends on Thanksgiving night?\", columns='Have you ever attended a \"Friendsgiving?\"', values=\"int_age\")\n",
    "print(pt)"
   ]
  },
  {
   "cell_type": "code",
   "execution_count": 78,
   "metadata": {
    "collapsed": false
   },
   "outputs": [
    {
     "name": "stdout",
     "output_type": "stream",
     "text": [
      "Have you ever attended a \"Friendsgiving?\"                     No           Yes\n",
      "Have you ever tried to meet up with hometown fr...                            \n",
      "No                                                  78914.549654  72894.736842\n",
      "Yes                                                 78750.000000  66019.736842\n"
     ]
    }
   ],
   "source": [
    "pivt = data.pivot_table(index=\"Have you ever tried to meet up with hometown friends on Thanksgiving night?\", columns='Have you ever attended a \"Friendsgiving?\"', values=\"int_income\", aggfunc=numpy.mean)         \n",
    "print(pivt)"
   ]
  }
 ],
 "metadata": {
  "kernelspec": {
   "display_name": "Python 3",
   "language": "python",
   "name": "python3"
  },
  "language_info": {
   "codemirror_mode": {
    "name": "ipython",
    "version": 3
   },
   "file_extension": ".py",
   "mimetype": "text/x-python",
   "name": "python",
   "nbconvert_exporter": "python",
   "pygments_lexer": "ipython3",
   "version": "3.4.3"
  }
 },
 "nbformat": 4,
 "nbformat_minor": 0
}
